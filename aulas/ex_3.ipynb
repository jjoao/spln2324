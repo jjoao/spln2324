{
 "cells": [
  {
   "cell_type": "code",
   "execution_count": 26,
   "metadata": {},
   "outputs": [],
   "source": [
    "#from gensim import remove_stopwords, preprocess_string\n",
    "import gensim\n",
    "f1 = open(\"Harry_Potter_e_A_Pedra_Filosofal.txt\",encoding=\"utf8\")\n",
    "f3 = open(\"Harry_Potter_Camara_Secreta-br.txt\",encoding=\"utf8\")\n",
    "\n",
    "\n",
    "frases = []\n",
    "for line in f1:\n",
    "    frases.append(list(gensim.utils.tokenize(line, lower=True)))\n",
    "for line in f3:\n",
    "    frases.append(list(gensim.utils.tokenize(line, lower=True)))\n",
    "#print(frases)\n"
   ]
  },
  {
   "cell_type": "code",
   "execution_count": 3,
   "metadata": {},
   "outputs": [
    {
     "data": {
      "text/plain": [
       "['vamos', 'ver', 'como', 'é', 'que', 'fazes']"
      ]
     },
     "execution_count": 3,
     "metadata": {},
     "output_type": "execute_result"
    }
   ],
   "source": [
    "list(gensim.utils.tokenize(\"vamos ver como, é que fazes\", lower=True))"
   ]
  },
  {
   "cell_type": "code",
   "execution_count": 28,
   "metadata": {},
   "outputs": [
    {
     "data": {
      "text/plain": [
       "14330"
      ]
     },
     "execution_count": 28,
     "metadata": {},
     "output_type": "execute_result"
    }
   ],
   "source": [
    "len(frases)"
   ]
  },
  {
   "cell_type": "code",
   "execution_count": 27,
   "metadata": {},
   "outputs": [],
   "source": [
    "from gensim.models import Word2Vec\n",
    "model_cbow = Word2Vec(sentences=frases,sg=0, workers=5, vector_size=100)"
   ]
  },
  {
   "cell_type": "code",
   "execution_count": 29,
   "metadata": {},
   "outputs": [
    {
     "data": {
      "text/plain": [
       "[('nós', 0.9990522861480713),\n",
       " ('posso', 0.9990020990371704),\n",
       " ('ficar', 0.9989333152770996),\n",
       " ('embora', 0.9988752007484436),\n",
       " ('minha', 0.9988121390342712),\n",
       " ('temos', 0.9987424612045288),\n",
       " ('há', 0.9987188577651978),\n",
       " ('falou', 0.9986976385116577),\n",
       " ('qual', 0.998681366443634),\n",
       " ('essa', 0.9986671209335327)]"
      ]
     },
     "execution_count": 29,
     "metadata": {},
     "output_type": "execute_result"
    }
   ],
   "source": [
    "model_cbow.wv.most_similar(\"dobby\")"
   ]
  },
  {
   "cell_type": "code",
   "execution_count": 11,
   "metadata": {},
   "outputs": [
    {
     "data": {
      "text/plain": [
       "'\\nsize: (default 100) The number of dimensions of the embedding, e.g. the length of the dense vector to represent each token (word).\\nwindow: (default 5) The maximum distance between a target word and words around the target word.\\nmin_count: (default 5) The minimum count of words to consider when training the model; words with an occurrence less than this count will be ignored.\\nworkers: (default 3) The number of threads to use while training.\\nsg: (default 0 or CBOW) The training algorithm, either CBOW (0) or skip gram (1).\\n'"
      ]
     },
     "execution_count": 11,
     "metadata": {},
     "output_type": "execute_result"
    }
   ],
   "source": [
    "model_cbow2 = Word2Vec(sentences=frases,sg=0, workers=5, epochs=20, vector_size=300)\n",
    "\n",
    "'''\n",
    "size: (default 100) The number of dimensions of the embedding, e.g. the length of the dense vector to represent each token (word).\n",
    "window: (default 5) The maximum distance between a target word and words around the target word.\n",
    "min_count: (default 5) The minimum count of words to consider when training the model; words with an occurrence less than this count will be ignored.\n",
    "workers: (default 3) The number of threads to use while training.\n",
    "sg: (default 0 or CBOW) The training algorithm, either CBOW (0) or skip gram (1).\n",
    "'''\n"
   ]
  },
  {
   "cell_type": "code",
   "execution_count": 12,
   "metadata": {},
   "outputs": [
    {
     "data": {
      "text/plain": [
       "[('senhor', 0.7291689515113831),\n",
       " ('elfo', 0.6876571178436279),\n",
       " ('riddle', 0.6620277762413025),\n",
       " ('doméstico', 0.6569207310676575),\n",
       " ('meu', 0.623244047164917),\n",
       " ('nick', 0.6208764910697937),\n",
       " ('vozinha', 0.5990853309631348),\n",
       " ('diggle', 0.5972104668617249),\n",
       " ('deus', 0.5936901569366455),\n",
       " ('quirrell', 0.5904818177223206)]"
      ]
     },
     "execution_count": 12,
     "metadata": {},
     "output_type": "execute_result"
    }
   ],
   "source": [
    "model_cbow2.wv.most_similar(\"dobby\")"
   ]
  },
  {
   "cell_type": "code",
   "execution_count": 13,
   "metadata": {},
   "outputs": [
    {
     "data": {
      "text/plain": [
       "[('mione', 0.6729926466941833),\n",
       " ('ele', 0.6697450280189514),\n",
       " ('neville', 0.649544358253479),\n",
       " ('draco', 0.6084975600242615),\n",
       " ('hermione', 0.5950376391410828),\n",
       " ('ela', 0.5829902291297913),\n",
       " ('rony', 0.5646577477455139),\n",
       " ('colin', 0.5608136653900146),\n",
       " ('ansioso', 0.5315892696380615),\n",
       " ('hagrid', 0.5271292924880981)]"
      ]
     },
     "execution_count": 13,
     "metadata": {},
     "output_type": "execute_result"
    }
   ],
   "source": [
    "model_cbow2.wv.most_similar(\"harry\")"
   ]
  },
  {
   "cell_type": "code",
   "execution_count": 97,
   "metadata": {},
   "outputs": [
    {
     "name": "stdout",
     "output_type": "stream",
     "text": [
      "[('sonserina', 0.5694453716278076), ('time', 0.5291758179664612), ('torre', 0.4988870620727539), ('alunos', 0.49551767110824585), ('goles', 0.4550738036632538), ('lufa', 0.4474114775657654), ('hospitalar', 0.44584015011787415), ('cozinha', 0.444074422121048), ('quadribol', 0.44205981492996216), ('escola', 0.4419179856777191)]\n"
     ]
    }
   ],
   "source": [
    "result = model_cbow2.wv.most_similar(positive=['harry', 'grifinória'], negative=['snape'])\n",
    "print(result)"
   ]
  },
  {
   "cell_type": "code",
   "execution_count": 96,
   "metadata": {},
   "outputs": [
    {
     "name": "stdout",
     "output_type": "stream",
     "text": [
      "[('sonserina', 0.8044049143791199), ('lufa', 0.6871176958084106), ('alunos', 0.6609712839126587), ('quadribol', 0.6565941572189331), ('torre', 0.6502258777618408), ('biblioteca', 0.6425350904464722), ('escola', 0.6400706171989441), ('corvinal', 0.6029542088508606), ('hospitalar', 0.6020034551620483), ('time', 0.5992687940597534)]\n"
     ]
    }
   ],
   "source": [
    "#Grifinória, Corvinal, Lufa-lufa e Sonserina\n",
    "result = model_cbow2.wv.most_similar('grifinória')\n",
    "print(result)"
   ]
  },
  {
   "cell_type": "code",
   "execution_count": 30,
   "metadata": {},
   "outputs": [
    {
     "name": "stdout",
     "output_type": "stream",
     "text": [
      "[('grifinória', 0.7219740152359009), ('magia', 0.7023077011108398), ('time', 0.6809906959533691), ('quadribol', 0.658104419708252), ('lufa', 0.6441951394081116), ('existência', 0.6426301002502441), ('taça', 0.6265945434570312), ('capitão', 0.6226168274879456), ('membro', 0.6119786500930786), ('primeiro', 0.6106348037719727)]\n"
     ]
    }
   ],
   "source": [
    "result = model_cbow2.wv.most_similar(positive=['draco', 'sonserina'], negative=['mione'])\n",
    "print(result)"
   ]
  },
  {
   "cell_type": "code",
   "execution_count": 92,
   "metadata": {},
   "outputs": [
    {
     "name": "stdout",
     "output_type": "stream",
     "text": [
      "[('quirrell', 0.7140644788742065), ('neville', 0.6943925023078918), ('colin', 0.6846120357513428), ('riddle', 0.6724488735198975), ('hermione', 0.6704978346824646), ('percy', 0.6494894623756409), ('hagrid', 0.6325101852416992), ('nervoso', 0.6299585103988647), ('snape', 0.6085466742515564), ('dumbledore', 0.6073416471481323)]\n"
     ]
    }
   ],
   "source": [
    "result = model_cbow2.wv.most_similar(positive=['draco', 'mione'], negative=['sonserina'])\n",
    "print(result)"
   ]
  },
  {
   "cell_type": "code",
   "execution_count": 93,
   "metadata": {},
   "outputs": [
    {
     "name": "stdout",
     "output_type": "stream",
     "text": [
      "[('hagrid', 0.697138786315918), ('draco', 0.6203290224075317), ('lockhart', 0.6026889085769653), ('percy', 0.6008546352386475), ('colin', 0.5874431133270264), ('mione', 0.5718173980712891), ('hermione', 0.570271909236908), ('neville', 0.5549905896186829), ('professora', 0.5346895456314087), ('murta', 0.5169826149940491)]\n"
     ]
    }
   ],
   "source": [
    "result = model_cbow2.wv.most_similar(positive=['dumbledore', 'rony'], negative=['professor'])\n",
    "print(result)"
   ]
  },
  {
   "cell_type": "code",
   "execution_count": 32,
   "metadata": {},
   "outputs": [
    {
     "name": "stdout",
     "output_type": "stream",
     "text": [
      "[('alvo', 0.715837299823761), ('diretor', 0.6997336745262146), ('prof', 0.6766847372055054), ('único', 0.6297060251235962), ('famoso', 0.6271664500236511), ('senhor', 0.627095103263855), ('exatamente', 0.616104245185852), ('flamel', 0.6131992340087891), ('isto', 0.6001434922218323), ('nome', 0.5985224843025208)]\n"
     ]
    }
   ],
   "source": [
    "result = model_cbow2.wv.most_similar(positive=['dumbledore', 'professor'], negative=['rony'])  \n",
    "print(result)"
   ]
  },
  {
   "cell_type": "code",
   "execution_count": 102,
   "metadata": {},
   "outputs": [
    {
     "data": {
      "text/plain": [
       "'dobby'"
      ]
     },
     "execution_count": 102,
     "metadata": {},
     "output_type": "execute_result"
    }
   ],
   "source": [
    "model_cbow2.wv.doesnt_match([\"harry\",\"hermione\",\"dobby\"])"
   ]
  },
  {
   "cell_type": "code",
   "execution_count": 103,
   "metadata": {},
   "outputs": [
    {
     "data": {
      "text/plain": [
       "'carro'"
      ]
     },
     "execution_count": 103,
     "metadata": {},
     "output_type": "execute_result"
    }
   ],
   "source": [
    "model_cbow2.wv.doesnt_match([\"magia\",\"carro\",\"hogwarts\"])"
   ]
  },
  {
   "cell_type": "code",
   "execution_count": null,
   "metadata": {},
   "outputs": [],
   "source": [
    "\"\"\"\n",
    "Athens Greece Baghdad Iraq\n",
    "Athens Greece Bangkok Thailand\n",
    "Athens Greece Beijing China\n",
    "Athens Greece Berlin Germany\n",
    "Athens Greece Bern Switzerland\n",
    "Athens Greece Cairo Egypt\n",
    "Athens Greece Canberra Australia\n",
    "Athens Greece Hanoi Vietnam\n",
    "Athens Greece Havana Cuba\n",
    "Athens Greece Helsinki Finland\n",
    "Athens Greece Islamabad Pakistan\n",
    "Athens Greece Kabul Afghanistan\n",
    "Athens Greece London England\n",
    "Athens Greece Madrid Spain\n",
    "Athens Greece Moscow Russia\n",
    "Athens Greece Oslo Norway\n",
    "Athens Greece Ottawa Canada\n",
    "Athens Greece Paris France\n",
    "Athens Greece Rome Italy\n",
    "Athens Greece Stockholm Sweden\n",
    "Athens Greece Tehran Iran\n",
    "Athens Greece Tokyo Japan\n",
    "Baghdad Iraq Bangkok Thailand\n",
    "Bern Switzerland Paris France\n",
    "\n",
    "\n",
    "\n",
    "bottle bottles rat rats\n",
    "bottle bottles road roads\n",
    "\n",
    "young youngest cold coldest\n",
    "young youngest cool coolest\n",
    "\n",
    "\"\"\""
   ]
  },
  {
   "cell_type": "code",
   "execution_count": 33,
   "metadata": {},
   "outputs": [],
   "source": [
    "model_cbow2.wv.save_word2vec_format('model_harry.txt', binary=False)\n",
    "#http://projector.tensorflow.org/\n"
   ]
  },
  {
   "cell_type": "code",
   "execution_count": 34,
   "metadata": {},
   "outputs": [
    {
     "name": "stderr",
     "output_type": "stream",
     "text": [
      "2024-04-09 15:39:39,151 - word2vec2tensor - INFO - running c:\\Users\\Filip\\AppData\\Local\\Programs\\Python\\Python310\\lib\\site-packages\\gensim\\scripts\\word2vec2tensor.py -i model_harry.txt -o model_harry\n",
      "2024-04-09 15:39:39,151 - keyedvectors - INFO - loading projection weights from model_harry.txt\n",
      "2024-04-09 15:39:39,782 - utils - INFO - KeyedVectors lifecycle event {'msg': 'loaded (3263, 300) matrix of type float32 from model_harry.txt', 'binary': False, 'encoding': 'utf8', 'datetime': '2024-04-09T15:39:39.766911', 'gensim': '4.2.0', 'python': '3.10.7 (tags/v3.10.7:6cc6b13, Sep  5 2022, 14:08:36) [MSC v.1933 64 bit (AMD64)]', 'platform': 'Windows-10-10.0.22631-SP0', 'event': 'load_word2vec_format'}\n",
      "2024-04-09 15:39:40,501 - word2vec2tensor - INFO - 2D tensor file saved to model_harry_tensor.tsv\n",
      "2024-04-09 15:39:40,501 - word2vec2tensor - INFO - Tensor metadata file saved to model_harry_metadata.tsv\n",
      "2024-04-09 15:39:40,501 - word2vec2tensor - INFO - finished running word2vec2tensor.py\n"
     ]
    }
   ],
   "source": [
    "!python -m gensim.scripts.word2vec2tensor -i model_harry.txt -o model_harry"
   ]
  }
 ],
 "metadata": {
  "kernelspec": {
   "display_name": "Python 3.9.7 64-bit",
   "language": "python",
   "name": "python3"
  },
  "language_info": {
   "codemirror_mode": {
    "name": "ipython",
    "version": 3
   },
   "file_extension": ".py",
   "mimetype": "text/x-python",
   "name": "python",
   "nbconvert_exporter": "python",
   "pygments_lexer": "ipython3",
   "version": "3.10.7"
  },
  "orig_nbformat": 4,
  "vscode": {
   "interpreter": {
    "hash": "916dbcbb3f70747c44a77c7bcd40155683ae19c65e1c03b4aa3499c5328201f1"
   }
  }
 },
 "nbformat": 4,
 "nbformat_minor": 2
}
